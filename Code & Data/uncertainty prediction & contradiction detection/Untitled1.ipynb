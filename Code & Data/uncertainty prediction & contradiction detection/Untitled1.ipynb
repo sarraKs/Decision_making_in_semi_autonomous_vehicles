{
 "cells": [
  {
   "cell_type": "code",
   "execution_count": 1,
   "id": "017fad1b",
   "metadata": {},
   "outputs": [],
   "source": [
    "import pandas as pd"
   ]
  },
  {
   "cell_type": "code",
   "execution_count": 2,
   "id": "9223649a",
   "metadata": {},
   "outputs": [],
   "source": [
    "radar_data = pd.read_csv('outputRadar2.csv')\n",
    "camera_data = pd.read_csv('outputCamera1.csv')"
   ]
  },
  {
   "cell_type": "code",
   "execution_count": 31,
   "id": "c424a570",
   "metadata": {},
   "outputs": [
    {
     "data": {
      "text/html": [
       "<div>\n",
       "<style scoped>\n",
       "    .dataframe tbody tr th:only-of-type {\n",
       "        vertical-align: middle;\n",
       "    }\n",
       "\n",
       "    .dataframe tbody tr th {\n",
       "        vertical-align: top;\n",
       "    }\n",
       "\n",
       "    .dataframe thead th {\n",
       "        text-align: right;\n",
       "    }\n",
       "</style>\n",
       "<table border=\"1\" class=\"dataframe\">\n",
       "  <thead>\n",
       "    <tr style=\"text-align: right;\">\n",
       "      <th></th>\n",
       "      <th>time</th>\n",
       "      <th>range_radar</th>\n",
       "      <th>velocity_radar</th>\n",
       "      <th>AoA_radar</th>\n",
       "      <th>time</th>\n",
       "      <th>range_camera</th>\n",
       "      <th>velocity_camera</th>\n",
       "      <th>AoA_camera</th>\n",
       "    </tr>\n",
       "  </thead>\n",
       "  <tbody>\n",
       "    <tr>\n",
       "      <th>0</th>\n",
       "      <td>0.0</td>\n",
       "      <td>378.929664</td>\n",
       "      <td>13.561884</td>\n",
       "      <td>-2.672516</td>\n",
       "      <td>0.0</td>\n",
       "      <td>378.929664</td>\n",
       "      <td>13.561884</td>\n",
       "      <td>-2.672516</td>\n",
       "    </tr>\n",
       "    <tr>\n",
       "      <th>1</th>\n",
       "      <td>0.0</td>\n",
       "      <td>248.211704</td>\n",
       "      <td>18.178031</td>\n",
       "      <td>-2.669837</td>\n",
       "      <td>0.0</td>\n",
       "      <td>248.211704</td>\n",
       "      <td>18.178031</td>\n",
       "      <td>-2.669837</td>\n",
       "    </tr>\n",
       "    <tr>\n",
       "      <th>2</th>\n",
       "      <td>0.0</td>\n",
       "      <td>212.676491</td>\n",
       "      <td>16.456920</td>\n",
       "      <td>-2.652078</td>\n",
       "      <td>0.0</td>\n",
       "      <td>212.676491</td>\n",
       "      <td>16.456920</td>\n",
       "      <td>-2.652078</td>\n",
       "    </tr>\n",
       "    <tr>\n",
       "      <th>3</th>\n",
       "      <td>0.0</td>\n",
       "      <td>122.375529</td>\n",
       "      <td>6.621422</td>\n",
       "      <td>0.179927</td>\n",
       "      <td>0.0</td>\n",
       "      <td>122.375529</td>\n",
       "      <td>6.621422</td>\n",
       "      <td>0.179927</td>\n",
       "    </tr>\n",
       "    <tr>\n",
       "      <th>4</th>\n",
       "      <td>0.0</td>\n",
       "      <td>319.027840</td>\n",
       "      <td>19.032024</td>\n",
       "      <td>-2.645719</td>\n",
       "      <td>0.0</td>\n",
       "      <td>319.027840</td>\n",
       "      <td>19.032024</td>\n",
       "      <td>-2.645719</td>\n",
       "    </tr>\n",
       "  </tbody>\n",
       "</table>\n",
       "</div>"
      ],
      "text/plain": [
       "   time   range_radar   velocity_radar   AoA_radar  time   range_camera  \\\n",
       "0   0.0    378.929664        13.561884   -2.672516   0.0     378.929664   \n",
       "1   0.0    248.211704        18.178031   -2.669837   0.0     248.211704   \n",
       "2   0.0    212.676491        16.456920   -2.652078   0.0     212.676491   \n",
       "3   0.0    122.375529         6.621422    0.179927   0.0     122.375529   \n",
       "4   0.0    319.027840        19.032024   -2.645719   0.0     319.027840   \n",
       "\n",
       "    velocity_camera   AoA_camera  \n",
       "0         13.561884    -2.672516  \n",
       "1         18.178031    -2.669837  \n",
       "2         16.456920    -2.652078  \n",
       "3          6.621422     0.179927  \n",
       "4         19.032024    -2.645719  "
      ]
     },
     "execution_count": 31,
     "metadata": {},
     "output_type": "execute_result"
    }
   ],
   "source": [
    "merged_data= pd.concat([radar_data, camera_data], axis=1)\n",
    "merged_data.head()"
   ]
  },
  {
   "cell_type": "code",
   "execution_count": 6,
   "id": "751e55c8",
   "metadata": {},
   "outputs": [],
   "source": [
    "threshold=0.1"
   ]
  },
  {
   "cell_type": "code",
   "execution_count": 7,
   "id": "b8a1e6e5",
   "metadata": {},
   "outputs": [],
   "source": [
    "merged_data['contradiction'] = (abs(merged_data[' velocity_radar'] - merged_data[' velocity_camera']) > threshold) | (abs(merged_data[' AoA_radar'] - merged_data[' AoA_camera']) > threshold) | (abs(merged_data[' range_radar'] - merged_data[' range_camera']) > threshold)\n"
   ]
  },
  {
   "cell_type": "code",
   "execution_count": 24,
   "id": "9caea576",
   "metadata": {},
   "outputs": [],
   "source": [
    "X = merged_data[[' velocity_radar', ' AoA_radar', ' range_radar', ' velocity_camera', ' AoA_camera', ' range_camera']]\n",
    "y = merged_data['contradiction']"
   ]
  },
  {
   "cell_type": "code",
   "execution_count": 25,
   "id": "0e1b6e3d",
   "metadata": {},
   "outputs": [
    {
     "name": "stdout",
     "output_type": "stream",
     "text": [
      "Switch to manual mode!\n"
     ]
    }
   ],
   "source": [
    "for i in y: \n",
    "    if (i == True):\n",
    "     print(\"Switch to manual mode!\")\n",
    "     break"
   ]
  },
  {
   "cell_type": "code",
   "execution_count": null,
   "id": "8c58a6e8",
   "metadata": {},
   "outputs": [],
   "source": []
  },
  {
   "cell_type": "code",
   "execution_count": 33,
   "id": "56f07e92",
   "metadata": {},
   "outputs": [
    {
     "name": "stdout",
     "output_type": "stream",
     "text": [
      "Model: \"model\"\n",
      "__________________________________________________________________________________________________\n",
      " Layer (type)                   Output Shape         Param #     Connected to                     \n",
      "==================================================================================================\n",
      " radar_input (InputLayer)       [(None, 64, 64, 3)]  0           []                               \n",
      "                                                                                                  \n",
      " camera_input (InputLayer)      [(None, 64, 64, 3)]  0           []                               \n",
      "                                                                                                  \n",
      " sequential (Sequential)        (None, 215296)       56320       ['radar_input[0][0]',            \n",
      "                                                                  'camera_input[0][0]']           \n",
      "                                                                                                  \n",
      " concatenate (Concatenate)      (None, 430592)       0           ['sequential[0][0]',             \n",
      "                                                                  'sequential[1][0]']             \n",
      "                                                                                                  \n",
      " dense (Dense)                  (None, 128)          55115904    ['concatenate[0][0]']            \n",
      "                                                                                                  \n",
      " dense_1 (Dense)                (None, 1)            129         ['dense[0][0]']                  \n",
      "                                                                                                  \n",
      "==================================================================================================\n",
      "Total params: 55,172,353\n",
      "Trainable params: 55,172,353\n",
      "Non-trainable params: 0\n",
      "__________________________________________________________________________________________________\n"
     ]
    }
   ],
   "source": [
    "import tensorflow as tf\n",
    "from tensorflow.keras.layers import Input, Conv2D, Flatten, Dense\n",
    "from tensorflow.keras.models import Model\n",
    "from tensorflow.keras.losses import BinaryCrossentropy\n",
    "from tensorflow.keras.optimizers import Adam\n",
    " \n",
    "\n",
    "def create_siamese_model(input_shape):\n",
    "    # Define the left and right input layers\n",
    "    radar_input = Input(input_shape, name='radar_input')\n",
    "    camera_input = Input(input_shape, name='camera_input')\n",
    "\n",
    "    # Shared convolutional layers\n",
    "    conv_net = tf.keras.Sequential()\n",
    "    conv_net.add(Conv2D(32, (3,3), activation='relu', input_shape=input_shape))\n",
    "    conv_net.add(Conv2D(64, (3,3), activation='relu'))\n",
    "    conv_net.add(Conv2D(64, (3,3), activation='relu'))\n",
    "    conv_net.add(Flatten())\n",
    "\n",
    "    # Generate the encodings for the radar and camera inputs\n",
    "    radar_encoding = conv_net(radar_input)\n",
    "    camera_encoding = conv_net(camera_input)\n",
    "\n",
    "    # Concatenate the encodings\n",
    "    concatenated = tf.keras.layers.concatenate([radar_encoding, camera_encoding])\n",
    "\n",
    "    # Add a fully connected layer\n",
    "    fc = Dense(128, activation='relu')(concatenated)\n",
    "\n",
    "    # Add the output layer\n",
    "    output = Dense(1, activation='sigmoid')(fc)\n",
    "\n",
    "    # Create the Siamese model\n",
    "    siamese_model = Model(inputs=[radar_input, camera_input], outputs=output)\n",
    "\n",
    "    return siamese_model\n",
    "\n",
    "# Example usage\n",
    "input_shape = (64, 64, 3)  # Adjust input shape according to your data\n",
    "siamese_model = create_siamese_model(input_shape)\n",
    "siamese_model.summary()\n",
    "\n"
   ]
  },
  {
   "cell_type": "code",
   "execution_count": null,
   "id": "31d9e19e",
   "metadata": {},
   "outputs": [],
   "source": [
    "siamese_model = create_siamese_model(input_shape)\n",
    "\n",
    "# Compile the model\n",
    "siamese_model.compile(optimizer=Adam(learning_rate=0.001),\n",
    "                      loss=BinaryCrossentropy(),\n",
    "                      metrics=['accuracy'])\n",
    "\n",
    "# Train the model\n",
    "siamese_model.fit([radar_train, camera_train], labels_train,\n",
    "                  validation_data=([radar_val, camera_val], labels_val),\n",
    "                  epochs=10, batch_size=32)"
   ]
  },
  {
   "cell_type": "code",
   "execution_count": 37,
   "id": "d4bb782f",
   "metadata": {},
   "outputs": [
    {
     "name": "stdout",
     "output_type": "stream",
     "text": [
      "Epoch 1/10\n",
      "76/76 [==============================] - 1s 6ms/step - loss: 5.7373e-07 - accuracy: 1.0000 - val_loss: 1.5759e-11 - val_accuracy: 1.0000\n",
      "Epoch 2/10\n",
      "76/76 [==============================] - 0s 2ms/step - loss: 3.5660e-11 - accuracy: 1.0000 - val_loss: 1.5391e-11 - val_accuracy: 1.0000\n",
      "Epoch 3/10\n",
      "76/76 [==============================] - 0s 2ms/step - loss: 3.5159e-11 - accuracy: 1.0000 - val_loss: 1.5142e-11 - val_accuracy: 1.0000\n",
      "Epoch 4/10\n",
      "76/76 [==============================] - 0s 2ms/step - loss: 3.4590e-11 - accuracy: 1.0000 - val_loss: 1.4866e-11 - val_accuracy: 1.0000\n",
      "Epoch 5/10\n",
      "76/76 [==============================] - 0s 2ms/step - loss: 3.3943e-11 - accuracy: 1.0000 - val_loss: 1.4555e-11 - val_accuracy: 1.0000\n",
      "Epoch 6/10\n",
      "76/76 [==============================] - 0s 2ms/step - loss: 3.3249e-11 - accuracy: 1.0000 - val_loss: 1.4259e-11 - val_accuracy: 1.0000\n",
      "Epoch 7/10\n",
      "76/76 [==============================] - 0s 2ms/step - loss: 3.2542e-11 - accuracy: 1.0000 - val_loss: 1.3882e-11 - val_accuracy: 1.0000\n",
      "Epoch 8/10\n",
      "76/76 [==============================] - 0s 2ms/step - loss: 3.1761e-11 - accuracy: 1.0000 - val_loss: 1.3553e-11 - val_accuracy: 1.0000\n",
      "Epoch 9/10\n",
      "76/76 [==============================] - 0s 2ms/step - loss: 3.0963e-11 - accuracy: 1.0000 - val_loss: 1.3197e-11 - val_accuracy: 1.0000\n",
      "Epoch 10/10\n",
      "76/76 [==============================] - 0s 2ms/step - loss: 3.0172e-11 - accuracy: 1.0000 - val_loss: 1.2828e-11 - val_accuracy: 1.0000\n"
     ]
    },
    {
     "data": {
      "text/plain": [
       "<keras.callbacks.History at 0x1d26de4b640>"
      ]
     },
     "execution_count": 37,
     "metadata": {},
     "output_type": "execute_result"
    }
   ],
   "source": [
    "\n",
    "import pandas as pd\n",
    "import numpy as np\n",
    "import tensorflow as tf\n",
    "from tensorflow.keras.layers import Input, Dense, Concatenate\n",
    "from tensorflow.keras.models import Model\n",
    "from tensorflow.keras.optimizers import Adam\n",
    "\n",
    "# Load and preprocess your CSV data\n",
    "radar_data = pd.read_csv('outputRadar2.csv')\n",
    "camera_data = pd.read_csv('outputCamera1.csv')\n",
    "\n",
    "# Assuming radar_data and camera_data have the same number of samples\n",
    "num_samples = radar_data.shape[0]\n",
    "\n",
    "# Split the data into training and validation sets\n",
    "train_ratio = 0.8  # 80% for training, 20% for validation\n",
    "train_size = int(num_samples * train_ratio)\n",
    "\n",
    "radar_train = radar_data[:train_size]\n",
    "radar_val = radar_data[train_size:]\n",
    "\n",
    "camera_train = camera_data[:train_size]\n",
    "camera_val = camera_data[train_size:]\n",
    "\n",
    "# Define the input shapes\n",
    "input_dim = radar_data.shape[1]  # Assuming radar_data and camera_data have the same number of features\n",
    "\n",
    "def create_siamese_model(input_dim):\n",
    "    # Model architecture\n",
    "    radar_input = Input(shape=(input_dim,), name='radar_input')\n",
    "    camera_input = Input(shape=(input_dim,), name='camera_input')\n",
    "\n",
    "    # Shared layers\n",
    "    shared_layers = [\n",
    "        Dense(64, activation='relu'),\n",
    "        Dense(32, activation='relu')\n",
    "    ]\n",
    "\n",
    "    # Apply shared layers to each input\n",
    "    radar_hidden = radar_input\n",
    "    camera_hidden = camera_input\n",
    "    for layer in shared_layers:\n",
    "        radar_hidden = layer(radar_hidden)\n",
    "        camera_hidden = layer(camera_hidden)\n",
    "\n",
    "    # Concatenate the outputs of shared layers\n",
    "    concatenated = Concatenate()([radar_hidden, camera_hidden])\n",
    "\n",
    "    # Add dense layers for further processing\n",
    "    fc = Dense(16, activation='relu')(concatenated)\n",
    "\n",
    "    # Output layer\n",
    "    output = Dense(1, activation='sigmoid')(fc)\n",
    "\n",
    "    # Create the Siamese model\n",
    "    siamese_model = Model(inputs=[radar_input, camera_input], outputs=output)\n",
    "\n",
    "    return siamese_model\n",
    "\n",
    "# Create the Siamese model\n",
    "siamese_model = create_siamese_model(input_dim)\n",
    "\n",
    "# Define the contrastive loss function\n",
    "def contrastive_loss(y_true, y_pred):\n",
    "    margin = 1.0\n",
    "    return tf.reduce_mean((1 - y_true) * tf.square(y_pred) + y_true * tf.square(tf.maximum(margin - y_pred, 0)))\n",
    "\n",
    "# Compile the model\n",
    "siamese_model.compile(optimizer=Adam(learning_rate=0.001),\n",
    "                      loss=contrastive_loss,\n",
    "                      metrics=['accuracy'])\n",
    "\n",
    "# Train the model\n",
    "siamese_model.fit([radar_train, camera_train], np.ones((train_size,)),\n",
    "                  validation_data=([radar_val, camera_val], np.ones((num_samples - train_size,))),\n",
    "                  epochs=10, batch_size=32)\n"
   ]
  },
  {
   "cell_type": "code",
   "execution_count": 43,
   "id": "30c243a3",
   "metadata": {},
   "outputs": [
    {
     "name": "stdout",
     "output_type": "stream",
     "text": [
      "19/19 [==============================] - 0s 850us/step\n",
      "Number of potential contradictions: 601\n"
     ]
    }
   ],
   "source": [
    "# Set similarity threshold\n",
    "threshold = 0.1\n",
    "\n",
    "# Predict on the validation data\n",
    "predictions = siamese_model.predict([radar_val, camera_val])\n",
    "\n",
    "# Identify potential contradictions based on the threshold\n",
    "potential_contrdictions = np.where(predictions > threshold)[0]\n",
    "print('Number of potential contradictions:', len(potential_contrdictions))\n",
    "\n"
   ]
  },
  {
   "cell_type": "code",
   "execution_count": 40,
   "id": "42c70da1",
   "metadata": {},
   "outputs": [
    {
     "name": "stdout",
     "output_type": "stream",
     "text": [
      "94/94 [==============================] - 0s 808us/step\n",
      "94/94 [==============================] - 0s 830us/step\n"
     ]
    }
   ],
   "source": [
    "# Reconstruct the radar and camera inputs\n",
    "reconstructed_radar = siamese_model.predict([radar_data, camera_data])\n",
    "reconstructed_camera = siamese_model.predict([radar_data, camera_data])\n",
    "\n",
    "# Calculate the reconstruction errors\n",
    "radar_reconstruction_error = np.mean(np.square(radar_data - reconstructed_radar), axis=1)\n",
    "camera_reconstruction_error = np.mean(np.square(camera_data - reconstructed_camera), axis=1)\n",
    "\n",
    "# Compute an overall reconstruction error by averaging the errors from both inputs\n",
    "overall_reconstruction_error = (radar_reconstruction_error + camera_reconstruction_error) / 2\n",
    "\n",
    "# Sort the examples based on the reconstruction error in descending order\n",
    "sorted_indices = np.argsort(overall_reconstruction_error)[::-1]\n"
   ]
  },
  {
   "cell_type": "code",
   "execution_count": 42,
   "id": "1d13f553",
   "metadata": {},
   "outputs": [
    {
     "ename": "ValueError",
     "evalue": "No such layer: fc. Existing layers are: ['radar_input', 'camera_input', 'dense_10', 'dense_11', 'concatenate_3', 'dense_12', 'dense_13'].",
     "output_type": "error",
     "traceback": [
      "\u001b[1;31m---------------------------------------------------------------------------\u001b[0m",
      "\u001b[1;31mValueError\u001b[0m                                Traceback (most recent call last)",
      "\u001b[1;32m~\\AppData\\Local\\Temp\\ipykernel_31544\\2263878168.py\u001b[0m in \u001b[0;36m<module>\u001b[1;34m\u001b[0m\n\u001b[0;32m      3\u001b[0m \u001b[1;33m\u001b[0m\u001b[0m\n\u001b[0;32m      4\u001b[0m \u001b[1;31m# Get the embeddings from the Siamese model\u001b[0m\u001b[1;33m\u001b[0m\u001b[1;33m\u001b[0m\u001b[0m\n\u001b[1;32m----> 5\u001b[1;33m \u001b[0membeddings\u001b[0m \u001b[1;33m=\u001b[0m \u001b[0msiamese_model\u001b[0m\u001b[1;33m.\u001b[0m\u001b[0mget_layer\u001b[0m\u001b[1;33m(\u001b[0m\u001b[1;34m'fc'\u001b[0m\u001b[1;33m)\u001b[0m\u001b[1;33m.\u001b[0m\u001b[0moutput\u001b[0m\u001b[1;33m\u001b[0m\u001b[1;33m\u001b[0m\u001b[0m\n\u001b[0m\u001b[0;32m      6\u001b[0m \u001b[0membedding_model\u001b[0m \u001b[1;33m=\u001b[0m \u001b[0mModel\u001b[0m\u001b[1;33m(\u001b[0m\u001b[0minputs\u001b[0m\u001b[1;33m=\u001b[0m\u001b[0msiamese_model\u001b[0m\u001b[1;33m.\u001b[0m\u001b[0minputs\u001b[0m\u001b[1;33m,\u001b[0m \u001b[0moutputs\u001b[0m\u001b[1;33m=\u001b[0m\u001b[0membeddings\u001b[0m\u001b[1;33m)\u001b[0m\u001b[1;33m\u001b[0m\u001b[1;33m\u001b[0m\u001b[0m\n\u001b[0;32m      7\u001b[0m \u001b[1;33m\u001b[0m\u001b[0m\n",
      "\u001b[1;32m~\\anaconda3\\lib\\site-packages\\keras\\engine\\training.py\u001b[0m in \u001b[0;36mget_layer\u001b[1;34m(self, name, index)\u001b[0m\n\u001b[0;32m   2920\u001b[0m         \u001b[1;32mif\u001b[0m \u001b[0mlayer\u001b[0m\u001b[1;33m.\u001b[0m\u001b[0mname\u001b[0m \u001b[1;33m==\u001b[0m \u001b[0mname\u001b[0m\u001b[1;33m:\u001b[0m\u001b[1;33m\u001b[0m\u001b[1;33m\u001b[0m\u001b[0m\n\u001b[0;32m   2921\u001b[0m           \u001b[1;32mreturn\u001b[0m \u001b[0mlayer\u001b[0m\u001b[1;33m\u001b[0m\u001b[1;33m\u001b[0m\u001b[0m\n\u001b[1;32m-> 2922\u001b[1;33m       raise ValueError(f'No such layer: {name}. Existing layers are: '\n\u001b[0m\u001b[0;32m   2923\u001b[0m                        f'{list(layer.name for layer in self.layers)}.')\n\u001b[0;32m   2924\u001b[0m     raise ValueError('Provide either a layer name or layer index at '\n",
      "\u001b[1;31mValueError\u001b[0m: No such layer: fc. Existing layers are: ['radar_input', 'camera_input', 'dense_10', 'dense_11', 'concatenate_3', 'dense_12', 'dense_13']."
     ]
    }
   ],
   "source": []
  },
  {
   "cell_type": "code",
   "execution_count": 44,
   "id": "2f170d65",
   "metadata": {},
   "outputs": [],
   "source": [
    "import pandas as pd\n",
    "\n",
    "radar_data = pd.read_csv('outputRadar2.csv')\n",
    "camera_data = pd.read_csv('outputCamera1.csv')\n",
    "\n",
    "radar_data=radar_data.drop(['time'],axis='columns')\n",
    "camera_data=camera_data.drop(['time'],axis='columns')"
   ]
  },
  {
   "cell_type": "code",
   "execution_count": 45,
   "id": "6acf7a1f",
   "metadata": {},
   "outputs": [],
   "source": [
    "from sklearn.preprocessing import StandardScaler\n",
    "\n",
    "scaler = StandardScaler()\n",
    "\n",
    "radar_data_scaled = scaler.fit_transform(radar_data)\n",
    "camera_data_scaled = scaler.fit_transform(camera_data)\n"
   ]
  },
  {
   "cell_type": "code",
   "execution_count": 46,
   "id": "ca4d7a53",
   "metadata": {},
   "outputs": [],
   "source": [
    "from sklearn.model_selection import train_test_split\n",
    "\n",
    "# Split radar_data and camera_data into training and testing sets\n",
    "radar_train, radar_test, camera_train, camera_test = train_test_split(radar_data_scaled, camera_data_scaled, test_size=0.2, random_state=42)\n"
   ]
  },
  {
   "cell_type": "code",
   "execution_count": 49,
   "id": "b3314bd4",
   "metadata": {},
   "outputs": [],
   "source": [
    "import tensorflow as tf\n",
    "from tensorflow.keras.layers import Input, Dense, Concatenate\n",
    "from tensorflow.keras.models import Model\n",
    "from tensorflow.keras.optimizers import Adam\n",
    "\n",
    "# Define the input shapes\n",
    "input_shape = (radar_data.shape[1],)  # Assuming radar_data and camera_data have the same number of features\n",
    "\n",
    "def create_siamese_model(input_shape):\n",
    "    # Model architecture\n",
    "    radar_input = Input(shape=input_shape, name='radar_input')\n",
    "    camera_input = Input(shape=input_shape, name='camera_input')\n",
    "\n",
    "    # Shared layers\n",
    "    shared_layers = [\n",
    "        Dense(64, activation='relu'),\n",
    "        Dense(32, activation='relu')\n",
    "    ]\n",
    "\n",
    "    # Apply shared layers to each input\n",
    "    radar_hidden = radar_input\n",
    "    camera_hidden = camera_input\n",
    "    for layer in shared_layers:\n",
    "        radar_hidden = layer(radar_hidden)\n",
    "        camera_hidden = layer(camera_hidden)\n",
    "\n",
    "    # Concatenate the outputs of shared layers\n",
    "    concatenated = Concatenate()([radar_hidden, camera_hidden])\n",
    "\n",
    "    # Add dense layers for further processing\n",
    "    fc = Dense(16, activation='relu')(concatenated)\n",
    "\n",
    "    # Output layer\n",
    "    output = Dense(1, activation='sigmoid')(fc)\n",
    "\n",
    "    # Create the Siamese model\n",
    "    siamese_model = Model(inputs=[radar_input, camera_input], outputs=output)\n",
    "\n",
    "    return siamese_model\n",
    "\n",
    "# Create the Siamese model\n",
    "siamese_model = create_siamese_model(input_shape)\n"
   ]
  },
  {
   "cell_type": "code",
   "execution_count": 52,
   "id": "1d97012f",
   "metadata": {},
   "outputs": [
    {
     "name": "stdout",
     "output_type": "stream",
     "text": [
      "Epoch 1/10\n",
      "76/76 [==============================] - 0s 1ms/step - loss: 0.1618\n",
      "Epoch 2/10\n",
      "76/76 [==============================] - 0s 1ms/step - loss: 0.0012\n",
      "Epoch 3/10\n",
      "76/76 [==============================] - 0s 1ms/step - loss: 4.2352e-04\n",
      "Epoch 4/10\n",
      "76/76 [==============================] - 0s 1ms/step - loss: 2.2312e-04\n",
      "Epoch 5/10\n",
      "76/76 [==============================] - 0s 1ms/step - loss: 1.3796e-04\n",
      "Epoch 6/10\n",
      "76/76 [==============================] - 0s 1ms/step - loss: 9.3091e-05\n",
      "Epoch 7/10\n",
      "76/76 [==============================] - 0s 1ms/step - loss: 6.7250e-05\n",
      "Epoch 8/10\n",
      "76/76 [==============================] - 0s 1ms/step - loss: 5.0747e-05\n",
      "Epoch 9/10\n",
      "76/76 [==============================] - 0s 1ms/step - loss: 3.9618e-05\n",
      "Epoch 10/10\n",
      "76/76 [==============================] - 0s 1ms/step - loss: 3.1851e-05\n"
     ]
    },
    {
     "data": {
      "text/plain": [
       "<keras.callbacks.History at 0x1d2317fe700>"
      ]
     },
     "execution_count": 52,
     "metadata": {},
     "output_type": "execute_result"
    }
   ],
   "source": [
    "import numpy as np\n",
    "from tensorflow.keras.optimizers import Adam\n",
    "\n",
    "# Create labels for the training data (self-supervised task)\n",
    "num_samples = radar_train.shape[0]\n",
    "labels = np.ones(num_samples)  # Assign positive label to all samples\n",
    "\n",
    "# Concatenate the training data for the Siamese model\n",
    "x_train = [radar_train, camera_train]\n",
    "\n",
    "# Compile the model with binary cross-entropy loss\n",
    "siamese_model.compile(optimizer=Adam(learning_rate=0.001), loss='binary_crossentropy')\n",
    "\n",
    "# Train the model\n",
    "siamese_model.fit(x_train, labels, epochs=10, batch_size=32)\n",
    "\n"
   ]
  },
  {
   "cell_type": "code",
   "execution_count": 53,
   "id": "43af6ad4",
   "metadata": {},
   "outputs": [
    {
     "name": "stdout",
     "output_type": "stream",
     "text": [
      "94/94 [==============================] - 0s 778us/step\n",
      "94/94 [==============================] - 0s 853us/step\n"
     ]
    }
   ],
   "source": [
    "# Reconstruct the radar and camera inputs\n",
    "reconstructed_radar = siamese_model.predict([radar_data, camera_data])\n",
    "reconstructed_camera = siamese_model.predict([radar_data, camera_data])\n",
    "\n",
    "# Calculate the reconstruction errors\n",
    "radar_reconstruction_error = np.mean(np.square(radar_data - reconstructed_radar), axis=1)\n",
    "camera_reconstruction_error = np.mean(np.square(camera_data - reconstructed_camera), axis=1)\n",
    "\n",
    "# Compute an overall reconstruction error by averaging the errors from both inputs\n",
    "overall_reconstruction_error = (radar_reconstruction_error + camera_reconstruction_error) / 2\n",
    "\n",
    "# Sort the examples based on the reconstruction error in descending order\n",
    "sorted_indices = np.argsort(overall_reconstruction_error)[::-1]\n"
   ]
  },
  {
   "cell_type": "code",
   "execution_count": 54,
   "id": "5982bd4c",
   "metadata": {},
   "outputs": [
    {
     "name": "stdout",
     "output_type": "stream",
     "text": [
      "94/94 [==============================] - 0s 792us/step\n"
     ]
    }
   ],
   "source": [
    "# Obtain embeddings for the entire dataset\n",
    "embeddings = siamese_model.predict([radar_data, camera_data])\n",
    "\n",
    "# Apply clustering algorithm (e.g., K-means, DBSCAN, etc.) to cluster the embeddings into groups\n",
    "# Perform further analysis on the resulting clusters\n"
   ]
  },
  {
   "cell_type": "code",
   "execution_count": 55,
   "id": "437d4eca",
   "metadata": {},
   "outputs": [
    {
     "name": "stderr",
     "output_type": "stream",
     "text": [
      "C:\\Users\\sabri\\anaconda3\\lib\\site-packages\\sklearn\\manifold\\_t_sne.py:780: FutureWarning: The default initialization in TSNE will change from 'random' to 'pca' in 1.2.\n",
      "  warnings.warn(\n",
      "C:\\Users\\sabri\\anaconda3\\lib\\site-packages\\sklearn\\manifold\\_t_sne.py:790: FutureWarning: The default learning rate in TSNE will change from 200.0 to 'auto' in 1.2.\n",
      "  warnings.warn(\n"
     ]
    },
    {
     "data": {
      "image/png": "[encoded data removed]",
      "text/plain": [
       "<Figure size 640x480 with 1 Axes>"
      ]
     },
     "metadata": {},
     "output_type": "display_data"
    }
   ],
   "source": [
    "# Use t-SNE or UMAP to reduce the dimensionality of the embeddings\n",
    "from sklearn.manifold import TSNE\n",
    "import matplotlib.pyplot as plt\n",
    "\n",
    "tsne = TSNE(n_components=2)\n",
    "embeddings_2d = tsne.fit_transform(embeddings)\n",
    "\n",
    "# Visualize the embeddings in a scatter plot\n",
    "plt.scatter(embeddings_2d[:, 0], embeddings_2d[:, 1])\n",
    "plt.title('Embeddings Visualization')\n",
    "plt.show()\n"
   ]
  },
  {
   "cell_type": "code",
   "execution_count": 56,
   "id": "407762cb",
   "metadata": {},
   "outputs": [
    {
     "name": "stdout",
     "output_type": "stream",
     "text": [
      "94/94 [==============================] - 0s 809us/step\n",
      "[[1.]\n",
      " [1.]\n",
      " [1.]\n",
      " ...\n",
      " [1.]\n",
      " [1.]\n",
      " [1.]]\n"
     ]
    }
   ],
   "source": [
    "# Calcul de la similarité entre les données radar et de caméra\n",
    "similarity_scores = siamese_model.predict([radar_data, camera_data])\n",
    "\n",
    "# Afficher les scores de similarité\n",
    "print(similarity_scores)\n"
   ]
  },
  {
   "cell_type": "code",
   "execution_count": 69,
   "id": "37222c62",
   "metadata": {},
   "outputs": [
    {
     "name": "stdout",
     "output_type": "stream",
     "text": [
      "Nombre de contradictions potentielles : 3003\n"
     ]
    }
   ],
   "source": [
    "threshold = 0.1  # Définissez votre seuil ici\n",
    "\n",
    "# Identifier les contradictions potentielles en fonction du seuil\n",
    "contradictions = np.where(similarity_scores > threshold)[0]\n",
    "\n",
    "# Afficher le nombre de contradictions potentielles\n",
    "print(\"Nombre de contradictions potentielles :\", len(contradictions))\n"
   ]
  },
  {
   "cell_type": "code",
   "execution_count": null,
   "id": "285d2e5b",
   "metadata": {},
   "outputs": [],
   "source": []
  },
  {
   "cell_type": "code",
   "execution_count": null,
   "id": "0e2ab32b",
   "metadata": {},
   "outputs": [],
   "source": []
  },
  {
   "cell_type": "code",
   "execution_count": null,
   "id": "e4f15b0f",
   "metadata": {},
   "outputs": [],
   "source": []
  }
 ],
 "metadata": {
  "kernelspec": {
   "display_name": "Python 3 (ipykernel)",
   "language": "python",
   "name": "python3"
  },
  "language_info": {
   "codemirror_mode": {
    "name": "ipython",
    "version": 3
   },
   "file_extension": ".py",
   "mimetype": "text/x-python",
   "name": "python",
   "nbconvert_exporter": "python",
   "pygments_lexer": "ipython3",
   "version": "3.9.13"
  }
 },
 "nbformat": 4,
 "nbformat_minor": 5
}
