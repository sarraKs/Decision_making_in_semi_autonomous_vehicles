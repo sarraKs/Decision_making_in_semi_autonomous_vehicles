{
 "cells": [
  {
   "cell_type": "markdown",
   "id": "aa6f5a19",
   "metadata": {},
   "source": [
    "# Part1: Sensor Uncertainty prediction"
   ]
  },
  {
   "cell_type": "code",
   "execution_count": 1,
   "id": "2741a218",
   "metadata": {},
   "outputs": [],
   "source": [
    "import pandas as pd\n",
    "from sklearn.model_selection import train_test_split\n",
    "from sklearn.preprocessing import StandardScaler\n",
    "from sklearn.metrics import accuracy_score, precision_score, recall_score, f1_score"
   ]
  },
  {
   "cell_type": "markdown",
   "id": "87ffa9d6",
   "metadata": {},
   "source": [
    "# Préparation des données\n"
   ]
  },
  {
   "cell_type": "code",
   "execution_count": 2,
   "id": "42957c64",
   "metadata": {},
   "outputs": [],
   "source": [
    "uncertainty = pd.read_csv('Uncertainties-_1_.csv')\n",
    "radar_data = pd.read_csv('output-_4_ (3) (1).csv')"
   ]
  },
  {
   "cell_type": "code",
   "execution_count": 3,
   "id": "1f49bdac",
   "metadata": {},
   "outputs": [
    {
     "data": {
      "text/html": [
       "<div>\n",
       "<style scoped>\n",
       "    .dataframe tbody tr th:only-of-type {\n",
       "        vertical-align: middle;\n",
       "    }\n",
       "\n",
       "    .dataframe tbody tr th {\n",
       "        vertical-align: top;\n",
       "    }\n",
       "\n",
       "    .dataframe thead th {\n",
       "        text-align: right;\n",
       "    }\n",
       "</style>\n",
       "<table border=\"1\" class=\"dataframe\">\n",
       "  <thead>\n",
       "    <tr style=\"text-align: right;\">\n",
       "      <th></th>\n",
       "      <th>time</th>\n",
       "      <th>range_radar</th>\n",
       "      <th>velocity_radar</th>\n",
       "      <th>AOA_radar</th>\n",
       "    </tr>\n",
       "  </thead>\n",
       "  <tbody>\n",
       "    <tr>\n",
       "      <th>0</th>\n",
       "      <td>0.0</td>\n",
       "      <td>378.929664</td>\n",
       "      <td>13.561884</td>\n",
       "      <td>-2.672516</td>\n",
       "    </tr>\n",
       "    <tr>\n",
       "      <th>1</th>\n",
       "      <td>0.0</td>\n",
       "      <td>248.211704</td>\n",
       "      <td>18.178031</td>\n",
       "      <td>-2.669837</td>\n",
       "    </tr>\n",
       "    <tr>\n",
       "      <th>2</th>\n",
       "      <td>0.0</td>\n",
       "      <td>212.676491</td>\n",
       "      <td>16.456920</td>\n",
       "      <td>-2.652078</td>\n",
       "    </tr>\n",
       "    <tr>\n",
       "      <th>3</th>\n",
       "      <td>0.0</td>\n",
       "      <td>122.375529</td>\n",
       "      <td>6.621422</td>\n",
       "      <td>0.179927</td>\n",
       "    </tr>\n",
       "    <tr>\n",
       "      <th>4</th>\n",
       "      <td>0.0</td>\n",
       "      <td>319.027840</td>\n",
       "      <td>19.032024</td>\n",
       "      <td>-2.645719</td>\n",
       "    </tr>\n",
       "  </tbody>\n",
       "</table>\n",
       "</div>"
      ],
      "text/plain": [
       "   time  range_radar  velocity_radar  AOA_radar\n",
       "0   0.0   378.929664       13.561884  -2.672516\n",
       "1   0.0   248.211704       18.178031  -2.669837\n",
       "2   0.0   212.676491       16.456920  -2.652078\n",
       "3   0.0   122.375529        6.621422   0.179927\n",
       "4   0.0   319.027840       19.032024  -2.645719"
      ]
     },
     "execution_count": 3,
     "metadata": {},
     "output_type": "execute_result"
    }
   ],
   "source": [
    "radar_data.head()"
   ]
  },
  {
   "cell_type": "code",
   "execution_count": 21,
   "id": "449aaca3",
   "metadata": {},
   "outputs": [
    {
     "data": {
      "text/html": [
       "<div>\n",
       "<style scoped>\n",
       "    .dataframe tbody tr th:only-of-type {\n",
       "        vertical-align: middle;\n",
       "    }\n",
       "\n",
       "    .dataframe tbody tr th {\n",
       "        vertical-align: top;\n",
       "    }\n",
       "\n",
       "    .dataframe thead th {\n",
       "        text-align: right;\n",
       "    }\n",
       "</style>\n",
       "<table border=\"1\" class=\"dataframe\">\n",
       "  <thead>\n",
       "    <tr style=\"text-align: right;\">\n",
       "      <th></th>\n",
       "      <th>range_radar</th>\n",
       "      <th>velocity_radar</th>\n",
       "      <th>AOA_radar</th>\n",
       "    </tr>\n",
       "  </thead>\n",
       "  <tbody>\n",
       "    <tr>\n",
       "      <th>0</th>\n",
       "      <td>378.929664</td>\n",
       "      <td>13.561884</td>\n",
       "      <td>-2.672516</td>\n",
       "    </tr>\n",
       "    <tr>\n",
       "      <th>1</th>\n",
       "      <td>248.211704</td>\n",
       "      <td>18.178031</td>\n",
       "      <td>-2.669837</td>\n",
       "    </tr>\n",
       "    <tr>\n",
       "      <th>2</th>\n",
       "      <td>212.676491</td>\n",
       "      <td>16.456920</td>\n",
       "      <td>-2.652078</td>\n",
       "    </tr>\n",
       "    <tr>\n",
       "      <th>3</th>\n",
       "      <td>122.375529</td>\n",
       "      <td>6.621422</td>\n",
       "      <td>0.179927</td>\n",
       "    </tr>\n",
       "    <tr>\n",
       "      <th>4</th>\n",
       "      <td>319.027840</td>\n",
       "      <td>19.032024</td>\n",
       "      <td>-2.645719</td>\n",
       "    </tr>\n",
       "    <tr>\n",
       "      <th>...</th>\n",
       "      <td>...</td>\n",
       "      <td>...</td>\n",
       "      <td>...</td>\n",
       "    </tr>\n",
       "    <tr>\n",
       "      <th>2346</th>\n",
       "      <td>52.539348</td>\n",
       "      <td>4.823031</td>\n",
       "      <td>-1.837647</td>\n",
       "    </tr>\n",
       "    <tr>\n",
       "      <th>2347</th>\n",
       "      <td>239.133326</td>\n",
       "      <td>3.685453</td>\n",
       "      <td>-2.587122</td>\n",
       "    </tr>\n",
       "    <tr>\n",
       "      <th>2348</th>\n",
       "      <td>249.465877</td>\n",
       "      <td>1.056951</td>\n",
       "      <td>-2.584789</td>\n",
       "    </tr>\n",
       "    <tr>\n",
       "      <th>2349</th>\n",
       "      <td>122.629183</td>\n",
       "      <td>0.792700</td>\n",
       "      <td>0.099250</td>\n",
       "    </tr>\n",
       "    <tr>\n",
       "      <th>2350</th>\n",
       "      <td>187.222834</td>\n",
       "      <td>24.576285</td>\n",
       "      <td>0.840139</td>\n",
       "    </tr>\n",
       "  </tbody>\n",
       "</table>\n",
       "<p>2351 rows × 3 columns</p>\n",
       "</div>"
      ],
      "text/plain": [
       "      range_radar  velocity_radar  AOA_radar\n",
       "0      378.929664       13.561884  -2.672516\n",
       "1      248.211704       18.178031  -2.669837\n",
       "2      212.676491       16.456920  -2.652078\n",
       "3      122.375529        6.621422   0.179927\n",
       "4      319.027840       19.032024  -2.645719\n",
       "...           ...             ...        ...\n",
       "2346    52.539348        4.823031  -1.837647\n",
       "2347   239.133326        3.685453  -2.587122\n",
       "2348   249.465877        1.056951  -2.584789\n",
       "2349   122.629183        0.792700   0.099250\n",
       "2350   187.222834       24.576285   0.840139\n",
       "\n",
       "[2351 rows x 3 columns]"
      ]
     },
     "execution_count": 21,
     "metadata": {},
     "output_type": "execute_result"
    }
   ],
   "source": [
    "df=radar_data.drop(['time'],axis='columns')\n",
    "df"
   ]
  },
  {
   "cell_type": "code",
   "execution_count": 5,
   "id": "905903d7",
   "metadata": {},
   "outputs": [
    {
     "data": {
      "text/html": [
       "<div>\n",
       "<style scoped>\n",
       "    .dataframe tbody tr th:only-of-type {\n",
       "        vertical-align: middle;\n",
       "    }\n",
       "\n",
       "    .dataframe tbody tr th {\n",
       "        vertical-align: top;\n",
       "    }\n",
       "\n",
       "    .dataframe thead th {\n",
       "        text-align: right;\n",
       "    }\n",
       "</style>\n",
       "<table border=\"1\" class=\"dataframe\">\n",
       "  <thead>\n",
       "    <tr style=\"text-align: right;\">\n",
       "      <th></th>\n",
       "      <th>range_radar</th>\n",
       "      <th>velocity_radar</th>\n",
       "      <th>AOA_radar</th>\n",
       "      <th>uncertainties</th>\n",
       "    </tr>\n",
       "  </thead>\n",
       "  <tbody>\n",
       "    <tr>\n",
       "      <th>0</th>\n",
       "      <td>378.929664</td>\n",
       "      <td>13.561884</td>\n",
       "      <td>-2.672516</td>\n",
       "      <td>4.217167</td>\n",
       "    </tr>\n",
       "    <tr>\n",
       "      <th>1</th>\n",
       "      <td>248.211704</td>\n",
       "      <td>18.178031</td>\n",
       "      <td>-2.669837</td>\n",
       "      <td>0.560986</td>\n",
       "    </tr>\n",
       "    <tr>\n",
       "      <th>2</th>\n",
       "      <td>212.676491</td>\n",
       "      <td>16.456920</td>\n",
       "      <td>-2.652078</td>\n",
       "      <td>4.159594</td>\n",
       "    </tr>\n",
       "    <tr>\n",
       "      <th>3</th>\n",
       "      <td>122.375529</td>\n",
       "      <td>6.621422</td>\n",
       "      <td>0.179927</td>\n",
       "      <td>2.445053</td>\n",
       "    </tr>\n",
       "    <tr>\n",
       "      <th>4</th>\n",
       "      <td>319.027840</td>\n",
       "      <td>19.032024</td>\n",
       "      <td>-2.645719</td>\n",
       "      <td>2.040474</td>\n",
       "    </tr>\n",
       "  </tbody>\n",
       "</table>\n",
       "</div>"
      ],
      "text/plain": [
       "   range_radar  velocity_radar  AOA_radar  uncertainties\n",
       "0   378.929664       13.561884  -2.672516       4.217167\n",
       "1   248.211704       18.178031  -2.669837       0.560986\n",
       "2   212.676491       16.456920  -2.652078       4.159594\n",
       "3   122.375529        6.621422   0.179927       2.445053\n",
       "4   319.027840       19.032024  -2.645719       2.040474"
      ]
     },
     "execution_count": 5,
     "metadata": {},
     "output_type": "execute_result"
    }
   ],
   "source": [
    "df1=pd.concat([df, uncertainty], axis=1)\n",
    "df1.head()"
   ]
  },
  {
   "cell_type": "code",
   "execution_count": 6,
   "id": "8578f45c",
   "metadata": {},
   "outputs": [
    {
     "data": {
      "text/html": [
       "<div>\n",
       "<style scoped>\n",
       "    .dataframe tbody tr th:only-of-type {\n",
       "        vertical-align: middle;\n",
       "    }\n",
       "\n",
       "    .dataframe tbody tr th {\n",
       "        vertical-align: top;\n",
       "    }\n",
       "\n",
       "    .dataframe thead th {\n",
       "        text-align: right;\n",
       "    }\n",
       "</style>\n",
       "<table border=\"1\" class=\"dataframe\">\n",
       "  <thead>\n",
       "    <tr style=\"text-align: right;\">\n",
       "      <th></th>\n",
       "      <th>range_radar</th>\n",
       "      <th>velocity_radar</th>\n",
       "      <th>AOA_radar</th>\n",
       "    </tr>\n",
       "  </thead>\n",
       "  <tbody>\n",
       "    <tr>\n",
       "      <th>0</th>\n",
       "      <td>378.929664</td>\n",
       "      <td>13.561884</td>\n",
       "      <td>-2.672516</td>\n",
       "    </tr>\n",
       "    <tr>\n",
       "      <th>1</th>\n",
       "      <td>248.211704</td>\n",
       "      <td>18.178031</td>\n",
       "      <td>-2.669837</td>\n",
       "    </tr>\n",
       "    <tr>\n",
       "      <th>2</th>\n",
       "      <td>212.676491</td>\n",
       "      <td>16.456920</td>\n",
       "      <td>-2.652078</td>\n",
       "    </tr>\n",
       "    <tr>\n",
       "      <th>3</th>\n",
       "      <td>122.375529</td>\n",
       "      <td>6.621422</td>\n",
       "      <td>0.179927</td>\n",
       "    </tr>\n",
       "    <tr>\n",
       "      <th>4</th>\n",
       "      <td>319.027840</td>\n",
       "      <td>19.032024</td>\n",
       "      <td>-2.645719</td>\n",
       "    </tr>\n",
       "  </tbody>\n",
       "</table>\n",
       "</div>"
      ],
      "text/plain": [
       "   range_radar  velocity_radar  AOA_radar\n",
       "0   378.929664       13.561884  -2.672516\n",
       "1   248.211704       18.178031  -2.669837\n",
       "2   212.676491       16.456920  -2.652078\n",
       "3   122.375529        6.621422   0.179927\n",
       "4   319.027840       19.032024  -2.645719"
      ]
     },
     "execution_count": 6,
     "metadata": {},
     "output_type": "execute_result"
    }
   ],
   "source": [
    "x=df1.drop('uncertainties',axis='columns')\n",
    "x.head()"
   ]
  },
  {
   "cell_type": "code",
   "execution_count": 7,
   "id": "a4136f00",
   "metadata": {},
   "outputs": [
    {
     "data": {
      "text/plain": [
       "0    4.217167\n",
       "1    0.560986\n",
       "2    4.159594\n",
       "3    2.445053\n",
       "4    2.040474\n",
       "Name: uncertainties, dtype: float64"
      ]
     },
     "execution_count": 7,
     "metadata": {},
     "output_type": "execute_result"
    }
   ],
   "source": [
    "y=df1.uncertainties\n",
    "y.head()"
   ]
  },
  {
   "cell_type": "code",
   "execution_count": 27,
   "id": "bd6238e3",
   "metadata": {},
   "outputs": [
    {
     "data": {
      "text/html": [
       "<div>\n",
       "<style scoped>\n",
       "    .dataframe tbody tr th:only-of-type {\n",
       "        vertical-align: middle;\n",
       "    }\n",
       "\n",
       "    .dataframe tbody tr th {\n",
       "        vertical-align: top;\n",
       "    }\n",
       "\n",
       "    .dataframe thead th {\n",
       "        text-align: right;\n",
       "    }\n",
       "</style>\n",
       "<table border=\"1\" class=\"dataframe\">\n",
       "  <thead>\n",
       "    <tr style=\"text-align: right;\">\n",
       "      <th></th>\n",
       "      <th>range_radar</th>\n",
       "      <th>velocity_radar</th>\n",
       "      <th>AOA_radar</th>\n",
       "    </tr>\n",
       "  </thead>\n",
       "  <tbody>\n",
       "    <tr>\n",
       "      <th>168</th>\n",
       "      <td>282.549902</td>\n",
       "      <td>30.051679</td>\n",
       "      <td>1.144871</td>\n",
       "    </tr>\n",
       "    <tr>\n",
       "      <th>729</th>\n",
       "      <td>391.807439</td>\n",
       "      <td>15.670305</td>\n",
       "      <td>-2.739052</td>\n",
       "    </tr>\n",
       "    <tr>\n",
       "      <th>1284</th>\n",
       "      <td>248.283054</td>\n",
       "      <td>1.058331</td>\n",
       "      <td>-2.583976</td>\n",
       "    </tr>\n",
       "    <tr>\n",
       "      <th>1555</th>\n",
       "      <td>52.539348</td>\n",
       "      <td>4.823031</td>\n",
       "      <td>-1.837647</td>\n",
       "    </tr>\n",
       "    <tr>\n",
       "      <th>1417</th>\n",
       "      <td>46.177913</td>\n",
       "      <td>13.702505</td>\n",
       "      <td>-0.474339</td>\n",
       "    </tr>\n",
       "    <tr>\n",
       "      <th>...</th>\n",
       "      <td>...</td>\n",
       "      <td>...</td>\n",
       "      <td>...</td>\n",
       "    </tr>\n",
       "    <tr>\n",
       "      <th>54</th>\n",
       "      <td>226.605033</td>\n",
       "      <td>16.258083</td>\n",
       "      <td>-2.658504</td>\n",
       "    </tr>\n",
       "    <tr>\n",
       "      <th>1882</th>\n",
       "      <td>237.978565</td>\n",
       "      <td>1.075295</td>\n",
       "      <td>-2.573948</td>\n",
       "    </tr>\n",
       "    <tr>\n",
       "      <th>2168</th>\n",
       "      <td>231.401948</td>\n",
       "      <td>1.078134</td>\n",
       "      <td>-2.572264</td>\n",
       "    </tr>\n",
       "    <tr>\n",
       "      <th>1733</th>\n",
       "      <td>298.849418</td>\n",
       "      <td>17.706522</td>\n",
       "      <td>-2.683026</td>\n",
       "    </tr>\n",
       "    <tr>\n",
       "      <th>67</th>\n",
       "      <td>230.083185</td>\n",
       "      <td>16.205064</td>\n",
       "      <td>-2.660214</td>\n",
       "    </tr>\n",
       "  </tbody>\n",
       "</table>\n",
       "<p>471 rows × 3 columns</p>\n",
       "</div>"
      ],
      "text/plain": [
       "      range_radar  velocity_radar  AOA_radar\n",
       "168    282.549902       30.051679   1.144871\n",
       "729    391.807439       15.670305  -2.739052\n",
       "1284   248.283054        1.058331  -2.583976\n",
       "1555    52.539348        4.823031  -1.837647\n",
       "1417    46.177913       13.702505  -0.474339\n",
       "...           ...             ...        ...\n",
       "54     226.605033       16.258083  -2.658504\n",
       "1882   237.978565        1.075295  -2.573948\n",
       "2168   231.401948        1.078134  -2.572264\n",
       "1733   298.849418       17.706522  -2.683026\n",
       "67     230.083185       16.205064  -2.660214\n",
       "\n",
       "[471 rows x 3 columns]"
      ]
     },
     "execution_count": 27,
     "metadata": {},
     "output_type": "execute_result"
    }
   ],
   "source": [
    "from sklearn.model_selection import train_test_split\n",
    "x_train, x_test, y_train, y_test = train_test_split(x,y,test_size=0.2,random_state=10)\n",
    "x_test"
   ]
  },
  {
   "cell_type": "markdown",
   "id": "3436727c",
   "metadata": {},
   "source": [
    "# Model Training"
   ]
  },
  {
   "cell_type": "code",
   "execution_count": 43,
   "id": "49bce50c",
   "metadata": {},
   "outputs": [
    {
     "name": "stdout",
     "output_type": "stream",
     "text": [
      "Mean Squared Error: 1.6963509621518675\n",
      "Sample Size: 1000\n",
      "R2 Score: 0.5373951682381255\n",
      "----------------------------\n",
      "Sample Size: 1500\n",
      "R2 Score: 0.5432667385656742\n",
      "----------------------------\n",
      "Sample Size: 2000\n",
      "R2 Score: 0.5423642828878532\n",
      "----------------------------\n",
      "Sample Size: 2351\n",
      "R2 Score: 0.5417327762449338\n",
      "----------------------------\n",
      "Best Sample Size: 1500\n",
      "Best R2 Score: 0.5432667385656742\n",
      "Out-of-Bag Score: 0.6833210742309626\n"
     ]
    }
   ],
   "source": [
    "from sklearn.ensemble import RandomForestRegressor, BaggingRegressor\n",
    "from sklearn.tree import DecisionTreeRegressor\n",
    "from sklearn.metrics import r2_score, mean_squared_error\n",
    "from sklearn.model_selection import cross_val_predict\n",
    "\n",
    "# Calculate the mean squared error (MSE)\n",
    "mse = mean_squared_error(y_train[:len(y_pred)], y_pred)\n",
    "print(\"Mean Squared Error:\", mse)\n",
    "\n",
    "# Define a list of sample sizes to test\n",
    "sample_sizes = [1000, 1500, 2000, 2351]\n",
    "\n",
    "# Variables to store the best performance values\n",
    "best_sample_size = None\n",
    "best_r2_score = -float('inf')\n",
    "\n",
    "# Loop through each sample size and evaluate the model\n",
    "for sample_size in sample_sizes:\n",
    "    # Select a subset of the data with the current sample size\n",
    "    X_train_subset = x_train[:sample_size]\n",
    "    y_train_subset = y_train[:sample_size]\n",
    "    \n",
    "    # Create a Random Forest Regressor model\n",
    "    random_forest = RandomForestRegressor(n_estimators=100)\n",
    "    \n",
    "    # Train the model\n",
    "    random_forest.fit(X_train_subset, y_train_subset)\n",
    "\n",
    "    # Make predictions on the validation set\n",
    "    y_pred = cross_val_predict(random_forest, x_train, y_train, cv=5)\n",
    "    \n",
    "    # Calculate the R2 score\n",
    "    r2 = r2_score(y_train, y_pred)\n",
    "    \n",
    "    # Print the performance metrics\n",
    "    print(\"Sample Size:\", sample_size)\n",
    "    print(\"R2 Score:\", r2)\n",
    "    print(\"----------------------------\")\n",
    "    \n",
    "    # Check if the current sample size has a better R2 score\n",
    "    if r2 > best_r2_score:\n",
    "        best_r2_score = r2\n",
    "        best_sample_size = sample_size\n",
    "\n",
    "# Print the best sample size and its corresponding R2 score\n",
    "print(\"Best Sample Size:\", best_sample_size)\n",
    "print(\"Best R2 Score:\", best_r2_score)\n",
    "\n",
    "# Use the best sample size to train the BaggingRegressor\n",
    "bagging = BaggingRegressor(base_estimator=DecisionTreeRegressor(), n_estimators=50)\n",
    "bagging.fit(x_train[:best_sample_size], y_train[:best_sample_size])\n",
    "\n",
    "# Calculate the out-of-bag (OOB) score\n",
    "oob_score = bagging.score(x_train, y_train)\n",
    "print(\"Out-of-Bag Score:\", oob_score)\n"
   ]
  },
  {
   "cell_type": "code",
   "execution_count": 22,
   "id": "4ea92588",
   "metadata": {},
   "outputs": [
    {
     "name": "stdout",
     "output_type": "stream",
     "text": [
      "Out-of-Bag Score: 0.5472983544713494\n",
      "Out-of-Bag Score: 0.5499926671053301\n"
     ]
    }
   ],
   "source": [
    "from sklearn.ensemble import BaggingRegressor\n",
    "from sklearn.ensemble import RandomForestRegressor\n",
    "\n",
    "\n",
    "# Define a list of sample sizes to test\n",
    "sample_sizes = [1000, 1500, 2000, 2351]\n",
    "# Variables to store the best performance values\n",
    "best_sample_size = None\n",
    "best_r2_score = -float('inf')\n",
    "\n",
    "# Loop through each sample size and evaluate the model\n",
    "for sample_size in sample_sizes:\n",
    "    # Select a subset of the data with the current sample size\n",
    "    x_train_subset = x_train[:sample_size]\n",
    "    y_train_subset = y_train[:sample_size]\n",
    "# Creating a Random Forest Regressor model\n",
    "random_forest = RandomForestRegressor(n_estimators=100)\n",
    "\n",
    "# Creating a BaggingRegressor with the Random Forest Regressor as the base estimator\n",
    "bagging = BaggingRegressor(base_estimator=random_forest, n_estimators=50, oob_score=True)\n",
    "\n",
    "# Training the BaggingRegressor with 90% of the data (using bootstrap sampling)\n",
    "bagging.fit(x_train, y_train)\n",
    "\n",
    "# Evaluating the model's performance on out-of-bag samples\n",
    "oob_score = bagging.oob_score_\n",
    "\n",
    "# Printing the OOB score\n",
    "print(\"Out-of-Bag Score:\", oob_score)\n",
    "# Use the best sample size to train the BaggingRegressor\n",
    "bagging = BaggingRegressor(base_estimator=DecisionTreeRegressor(), n_estimators=50, oob_score=True)\n",
    "bagging.fit(x_train[:best_sample_size], y_train[:best_sample_size])\n",
    "\n",
    "# Evaluate the model's performance on out-of-bag samples\n",
    "oob_score = bagging.oob_score_\n",
    "\n",
    "# Print the OOB score\n",
    "print(\"Out-of-Bag Score:\", oob_score)"
   ]
  },
  {
   "cell_type": "code",
   "execution_count": 17,
   "id": "28bc05d6",
   "metadata": {},
   "outputs": [
    {
     "name": "stdout",
     "output_type": "stream",
     "text": [
      "R2 Score: 0.631422174971634\n",
      "----------------------------\n"
     ]
    }
   ],
   "source": [
    "from sklearn.ensemble import BaggingRegressor\n",
    "from sklearn.ensemble import RandomForestRegressor\n",
    "from sklearn.metrics import r2_score\n",
    "# Create a Random Forest Regressor model\n",
    "random_forest = RandomForestRegressor(n_estimators=100)\n",
    "    \n",
    "# Train the model\n",
    "random_forest.fit(x_train, y_train)\n",
    "    \n",
    "# Make predictions on the validation set\n",
    "y_pred = random_forest.predict(x_test)\n",
    "    \n",
    "# Calculate the R2 score\n",
    "r2 = r2_score(y_test, y_pred)\n",
    "    \n",
    "# Print the performance metrics\n",
    "    \n",
    "print(\"R2 Score:\", r2)\n",
    "print(\"----------------------------\")"
   ]
  },
  {
   "cell_type": "code",
   "execution_count": 491,
   "id": "17524787",
   "metadata": {},
   "outputs": [
    {
     "data": {
      "text/plain": [
       "0.3627618347077516"
      ]
     },
     "execution_count": 491,
     "metadata": {},
     "output_type": "execute_result"
    }
   ],
   "source": [
    "from sklearn.linear_model import LinearRegression\n",
    "lr_clf=LinearRegression()\n",
    "lr_clf.fit(x_train,y_train)\n",
    "lr_clf.score(x_test,y_test)"
   ]
  },
  {
   "cell_type": "code",
   "execution_count": 492,
   "id": "08daf612",
   "metadata": {},
   "outputs": [
    {
     "data": {
      "text/plain": [
       "0.5443799514998496"
      ]
     },
     "execution_count": 492,
     "metadata": {},
     "output_type": "execute_result"
    }
   ],
   "source": [
    "from sklearn.neighbors import KNeighborsRegressor\n",
    "model1=KNeighborsRegressor()\n",
    "model1.fit(x_train,y_train)\n",
    "model1.score(x_test,y_test)"
   ]
  },
  {
   "cell_type": "code",
   "execution_count": 493,
   "id": "2df9b384",
   "metadata": {},
   "outputs": [
    {
     "data": {
      "text/plain": [
       "0.5750266048992003"
      ]
     },
     "execution_count": 493,
     "metadata": {},
     "output_type": "execute_result"
    }
   ],
   "source": [
    "from sklearn.ensemble import GradientBoostingRegressor\n",
    "model1=GradientBoostingRegressor()\n",
    "model1.fit(x_train,y_train)\n",
    "model1.score(x_test,y_test) "
   ]
  },
  {
   "cell_type": "code",
   "execution_count": 501,
   "id": "c223f519",
   "metadata": {},
   "outputs": [
    {
     "data": {
      "text/plain": [
       "0.6431115725009391"
      ]
     },
     "execution_count": 501,
     "metadata": {},
     "output_type": "execute_result"
    }
   ],
   "source": [
    "from sklearn.ensemble import RandomForestRegressor\n",
    "model1=RandomForestRegressor()\n",
    "model1.fit(x_train,y_train)\n",
    "y_test.head()\n",
    "model1.score(x_test,y_test) "
   ]
  },
  {
   "cell_type": "code",
   "execution_count": 502,
   "id": "c45577e3",
   "metadata": {},
   "outputs": [
    {
     "data": {
      "text/plain": [
       "168     4.520722\n",
       "729     2.388368\n",
       "1284    0.536364\n",
       "1555    1.688602\n",
       "1417    2.757646\n",
       "Name: uncertainties, dtype: float64"
      ]
     },
     "execution_count": 502,
     "metadata": {},
     "output_type": "execute_result"
    }
   ],
   "source": [
    "y_test.head()"
   ]
  },
  {
   "cell_type": "code",
   "execution_count": 503,
   "id": "83e1b013",
   "metadata": {},
   "outputs": [
    {
     "name": "stdout",
     "output_type": "stream",
     "text": [
      "Mean Squared Error: 0.47181566162423944\n"
     ]
    }
   ],
   "source": [
    "from sklearn.model_selection import cross_val_predict\n",
    "import numpy as np\n",
    "from sklearn.metrics import mean_squared_error\n",
    "y_pred_cv = cross_val_predict(model1, x_train, y_train, cv=5)\n",
    "\n",
    "# Calculate the mean squared error (MSE)\n",
    "mse = mean_squared_error(y_train, y_pred_cv)\n",
    "print(\"Mean Squared Error:\", mse)"
   ]
  },
  {
   "cell_type": "code",
   "execution_count": null,
   "id": "112f4dcd",
   "metadata": {},
   "outputs": [],
   "source": []
  },
  {
   "cell_type": "markdown",
   "id": "76fb634b",
   "metadata": {},
   "source": [
    "# Part2: Detection of the contradiction between the radar_data and camera_data"
   ]
  },
  {
   "cell_type": "code",
   "execution_count": 440,
   "id": "91527b95",
   "metadata": {},
   "outputs": [],
   "source": [
    "import pandas as pd"
   ]
  },
  {
   "cell_type": "code",
   "execution_count": 505,
   "id": "5e5bbe7e",
   "metadata": {},
   "outputs": [],
   "source": [
    "radar_data = pd.read_csv('outputRadar2.csv')\n",
    "camera_data = pd.read_csv('outputCamera1.csv')"
   ]
  },
  {
   "cell_type": "code",
   "execution_count": 506,
   "id": "5da84b6d",
   "metadata": {},
   "outputs": [
    {
     "data": {
      "text/html": [
       "<div>\n",
       "<style scoped>\n",
       "    .dataframe tbody tr th:only-of-type {\n",
       "        vertical-align: middle;\n",
       "    }\n",
       "\n",
       "    .dataframe tbody tr th {\n",
       "        vertical-align: top;\n",
       "    }\n",
       "\n",
       "    .dataframe thead th {\n",
       "        text-align: right;\n",
       "    }\n",
       "</style>\n",
       "<table border=\"1\" class=\"dataframe\">\n",
       "  <thead>\n",
       "    <tr style=\"text-align: right;\">\n",
       "      <th></th>\n",
       "      <th>range_radar</th>\n",
       "      <th>velocity_radar</th>\n",
       "      <th>AoA_radar</th>\n",
       "      <th>range_camera</th>\n",
       "      <th>velocity_camera</th>\n",
       "      <th>AoA_camera</th>\n",
       "    </tr>\n",
       "  </thead>\n",
       "  <tbody>\n",
       "    <tr>\n",
       "      <th>0</th>\n",
       "      <td>378.929664</td>\n",
       "      <td>13.561884</td>\n",
       "      <td>-2.672516</td>\n",
       "      <td>378.929664</td>\n",
       "      <td>13.561884</td>\n",
       "      <td>-2.672516</td>\n",
       "    </tr>\n",
       "    <tr>\n",
       "      <th>1</th>\n",
       "      <td>248.211704</td>\n",
       "      <td>18.178031</td>\n",
       "      <td>-2.669837</td>\n",
       "      <td>248.211704</td>\n",
       "      <td>18.178031</td>\n",
       "      <td>-2.669837</td>\n",
       "    </tr>\n",
       "    <tr>\n",
       "      <th>2</th>\n",
       "      <td>212.676491</td>\n",
       "      <td>16.456920</td>\n",
       "      <td>-2.652078</td>\n",
       "      <td>212.676491</td>\n",
       "      <td>16.456920</td>\n",
       "      <td>-2.652078</td>\n",
       "    </tr>\n",
       "    <tr>\n",
       "      <th>3</th>\n",
       "      <td>122.375529</td>\n",
       "      <td>6.621422</td>\n",
       "      <td>0.179927</td>\n",
       "      <td>122.375529</td>\n",
       "      <td>6.621422</td>\n",
       "      <td>0.179927</td>\n",
       "    </tr>\n",
       "    <tr>\n",
       "      <th>4</th>\n",
       "      <td>319.027840</td>\n",
       "      <td>19.032024</td>\n",
       "      <td>-2.645719</td>\n",
       "      <td>319.027840</td>\n",
       "      <td>19.032024</td>\n",
       "      <td>-2.645719</td>\n",
       "    </tr>\n",
       "  </tbody>\n",
       "</table>\n",
       "</div>"
      ],
      "text/plain": [
       "    range_radar   velocity_radar   AoA_radar   range_camera   velocity_camera  \\\n",
       "0    378.929664        13.561884   -2.672516     378.929664         13.561884   \n",
       "1    248.211704        18.178031   -2.669837     248.211704         18.178031   \n",
       "2    212.676491        16.456920   -2.652078     212.676491         16.456920   \n",
       "3    122.375529         6.621422    0.179927     122.375529          6.621422   \n",
       "4    319.027840        19.032024   -2.645719     319.027840         19.032024   \n",
       "\n",
       "    AoA_camera  \n",
       "0    -2.672516  \n",
       "1    -2.669837  \n",
       "2    -2.652078  \n",
       "3     0.179927  \n",
       "4    -2.645719  "
      ]
     },
     "execution_count": 506,
     "metadata": {},
     "output_type": "execute_result"
    }
   ],
   "source": [
    "merged_data= pd.concat([radar_data, camera_data], axis=1)\n",
    "merged_data.head()\n",
    "merged_data=merged_data.drop(['time'],axis='columns')\n",
    "merged_data.head()"
   ]
  },
  {
   "cell_type": "code",
   "execution_count": 507,
   "id": "569ebe34",
   "metadata": {},
   "outputs": [],
   "source": [
    "threshold=0.1"
   ]
  },
  {
   "cell_type": "code",
   "execution_count": 508,
   "id": "eb10ad2c",
   "metadata": {},
   "outputs": [],
   "source": [
    "merged_data['contradiction'] = (abs(merged_data[' velocity_radar'] - merged_data[' velocity_camera']) > threshold) | (abs(merged_data[' AoA_radar'] - merged_data[' AoA_camera']) > threshold) | (abs(merged_data[' range_radar'] - merged_data[' range_camera']) > threshold)\n"
   ]
  },
  {
   "cell_type": "code",
   "execution_count": 510,
   "id": "b7654722",
   "metadata": {},
   "outputs": [
    {
     "data": {
      "text/plain": [
       "0     False\n",
       "1     False\n",
       "2     False\n",
       "3     False\n",
       "4     False\n",
       "5      True\n",
       "6     False\n",
       "7     False\n",
       "8     False\n",
       "9     False\n",
       "10     True\n",
       "11    False\n",
       "12    False\n",
       "13    False\n",
       "14    False\n",
       "15    False\n",
       "16    False\n",
       "17    False\n",
       "18    False\n",
       "19    False\n",
       "20    False\n",
       "21    False\n",
       "22    False\n",
       "23    False\n",
       "24     True\n",
       "25    False\n",
       "26     True\n",
       "27    False\n",
       "28    False\n",
       "29    False\n",
       "30    False\n",
       "31    False\n",
       "32    False\n",
       "33    False\n",
       "34    False\n",
       "35    False\n",
       "36    False\n",
       "37    False\n",
       "38     True\n",
       "39    False\n",
       "40    False\n",
       "41    False\n",
       "42    False\n",
       "43    False\n",
       "44    False\n",
       "45    False\n",
       "46    False\n",
       "47     True\n",
       "48    False\n",
       "49    False\n",
       "Name: contradiction, dtype: bool"
      ]
     },
     "execution_count": 510,
     "metadata": {},
     "output_type": "execute_result"
    }
   ],
   "source": [
    "X = merged_data[[' velocity_radar', ' AoA_radar', ' range_radar', ' velocity_camera', ' AoA_camera', ' range_camera']]\n",
    "y = merged_data['contradiction']\n",
    "y[0:50]"
   ]
  },
  {
   "cell_type": "code",
   "execution_count": 511,
   "id": "7056b5b1",
   "metadata": {},
   "outputs": [
    {
     "name": "stdout",
     "output_type": "stream",
     "text": [
      "Switch to manual mode!\n"
     ]
    }
   ],
   "source": [
    "k=0\n",
    "for i in y: \n",
    "    if (i == True):\n",
    "     print(\"Switch to manual mode!\")\n",
    "     k=1;\n",
    "     break"
   ]
  },
  {
   "cell_type": "markdown",
   "id": "2fa9359f",
   "metadata": {},
   "source": []
  },
  {
   "cell_type": "code",
   "execution_count": null,
   "id": "ba593645",
   "metadata": {},
   "outputs": [],
   "source": []
  },
  {
   "cell_type": "code",
   "execution_count": null,
   "id": "c727e5e2",
   "metadata": {},
   "outputs": [],
   "source": []
  },
  {
   "cell_type": "code",
   "execution_count": null,
   "id": "e048815e",
   "metadata": {},
   "outputs": [],
   "source": []
  },
  {
   "cell_type": "code",
   "execution_count": 203,
   "id": "4b435f5f",
   "metadata": {},
   "outputs": [],
   "source": []
  },
  {
   "cell_type": "code",
   "execution_count": null,
   "id": "a0ac6f2d",
   "metadata": {},
   "outputs": [],
   "source": []
  }
 ],
 "metadata": {
  "kernelspec": {
   "display_name": "Python 3 (ipykernel)",
   "language": "python",
   "name": "python3"
  },
  "language_info": {
   "codemirror_mode": {
    "name": "ipython",
    "version": 3
   },
   "file_extension": ".py",
   "mimetype": "text/x-python",
   "name": "python",
   "nbconvert_exporter": "python",
   "pygments_lexer": "ipython3",
   "version": "3.9.13"
  }
 },
 "nbformat": 4,
 "nbformat_minor": 5
}
